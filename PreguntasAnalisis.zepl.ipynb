
{ "metadata": {
    "name": "Preguntas",
    "kernelspec": {
      "display_name": "Scala",
      "language": "scala",
      "name": "spark2-scala"
    },
    "language_info": {
      "codemirror_mode": "text/x-scala",
      "file_extension": ".scala",
      "mimetype": "text/x-scala",
      "name": "scala",
      "pygments_lexer": "scala"
    }
  },
  "nbformat": 4,
  "nbformat_minor": 2,
  "cells": [
    {
      "cell_type": "markdown",
      "metadata": {},
      "source": "#Tema 1: Analisis de datos"
    },    
    {
      "cell_type": "code",
      "execution_count": 0,
      "metadata": {
        "autoscroll": "auto"
      },
      "outputs": [],
      "source": "import org.apache.spark.sql.types._\nval myDataSchema \u003d StructType(\n    Array(\n        StructField(\"id_persona\", DecimalType(26, 0), true), \n        StructField(\"anio\", IntegerType, true), \n        StructField(\"mes\", IntegerType, true), \n        StructField(\"provincia\", IntegerType, true), \n        StructField(\"canton\", IntegerType, true), \n        StructField(\"area\", StringType, true), \n        StructField(\"genero\", StringType, true), \n        StructField(\"edad\", IntegerType, true), \n        StructField(\"estado_civil\", StringType, true), \n        StructField(\"nivel_de_instruccion\", StringType, true), \n        StructField(\"etnia\", StringType, true), \n        StructField(\"ingreso_laboral\", IntegerType, true), \n        StructField(\"condicion_actividad\", StringType, true), \n        StructField(\"sectorizacion\", StringType, true), \n        StructField(\"grupo_ocupacion\", StringType, true), \n        StructField(\"rama_actividad\", StringType, true), \n        StructField(\"factor_expansion\", DoubleType, true)\n    ));"
    },
    {
      "cell_type": "code",
      "execution_count": 1,
      "metadata": {
        "autoscroll": "auto"
      },
      "outputs": [],
      "source": "val data \u003d spark\n  .read\n  .schema(myDataSchema)\n//  .option(\"inferSchema\", true)\n  .option(\"header\", \"true\")\n  .option(\"delimiter\", \"\\t\")\n  .csv(\"/home/ricardoifc/Documentos/ProyectoProAv/datos_proyecto/Datos_ENEMDU_PEA_v2.csv\");"
    },
    {
      "cell_type": "markdown",
      "metadata": {},
      "source": "## 1¿Cual es la cantidad de personas por Etnia? "
    },
    {
      "cell_type": "code",
      "execution_count": 3,
      "metadata": {
        "autoscroll": "auto"
      },
      "outputs": [],
      "source": "data.groupBy(\"etnia\")\n.count()\n.sort(\"etnia\")\n.show()"
    },
    {
      "cell_type": "code",
      "execution_count": 4,
      "metadata": {
        "autoscroll": "auto"
      },
      "outputs": [],
      "source": "val dataI \u003d data.where($\"etnia\" \u003d\u003d\u003d \"1 - Indígena\")\nprint(\"\\nIndigenas: \" + dataI.count + \"\\n\")"
    },
    {
      "cell_type": "code",
      "execution_count": 5,
      "metadata": {
        "autoscroll": "auto"
      },
      "outputs": [],
      "source": "val dataA \u003d data.where($\"etnia\" \u003d\u003d\u003d \"2 - Afroecuatoriano\")\nprint(\"\\nAfroecuatoriano: \" + dataA.count + \"\\n\")"
    },
    {
      "cell_type": "code",
      "execution_count": 6,
      "metadata": {
        "autoscroll": "auto"
      },
      "outputs": [],
      "source": "val dataN \u003d data.where($\"etnia\" \u003d\u003d\u003d \"3 - Negro\")\nprint(\"\\nNegro: \" + dataN.count + \"\\n\")"
    },
    {
      "cell_type": "code",
      "execution_count": 7,
      "metadata": {
        "autoscroll": "auto"
      },
      "outputs": [],
      "source": "val dataM \u003d data.where($\"etnia\" \u003d\u003d\u003d \"4 - Mulato\")\nprint(\"\\nMulato: \" + dataN.count + \"\\n\")"
    },
    {
      "cell_type": "markdown",
      "metadata": {},
      "source": "## 2¿Porsentaje Indigenas, Afroecuatorianos , Negro y Mulato?"
    },
    {
      "cell_type": "code",
      "execution_count": 9,
      "metadata": {
        "autoscroll": "auto"
      },
      "outputs": [],
      "source": "print(f\"\\n${(dataI.count / data.count.toDouble) * 100}%.2f%% Indigenas \\n${(dataA.count / data.count.toDouble) * 100}%.2f%% Afroecuatoriano \\n${(dataN.count / data.count.toDouble) * 100}%.2f%% Negro \\n${(dataM.count / data.count.toDouble) * 100}%.2f%% Mulato \\n\")"
    },
    {
      "cell_type": "markdown",
      "metadata": {},
      "source": "## 3. ¿Cual es el valor promedio de ingresos para Indigenas, Afroecuatorianos , Negro y Mulato?"
    },
    {
      "cell_type": "code",
      "execution_count": 11,
      "metadata": {
        "autoscroll": "auto"
      },
      "outputs": [],
      "source": "dataI.select(avg(\"ingreso_laboral\").as(\"Indigenas\")).show"
    },
    {
      "cell_type": "code",
      "execution_count": 12,
      "metadata": {
        "autoscroll": "auto"
      },
      "outputs": [],
      "source": "dataA.select(avg(\"ingreso_laboral\").as(\"Afroecuatorianos\")).show"
    },
    {
      "cell_type": "code",
      "execution_count": 13,
      "metadata": {
        "autoscroll": "auto"
      },
      "outputs": [],
      "source": "dataN.select(avg(\"ingreso_laboral\").as(\"Negro\")).show"
    },
    {
      "cell_type": "code",
      "execution_count": 14,
      "metadata": {
        "autoscroll": "auto"
      },
      "outputs": [],
      "source": "dataM.select(avg(\"ingreso_laboral\").as(\"Mulato\")).show"
    },
    {
      "cell_type": "markdown",
      "metadata": {},
      "source": "## 4¿Cual es el porcentaje de Indigenas, Afroecuatorianos , Negro y Mulato que ganan menos del salario minimo unificado?"
    },
    {
      "cell_type": "code",
      "execution_count": 16,
      "metadata": {
        "autoscroll": "auto"
      },
      "outputs": [],
      "source": "var pMenorASBIndigena \u003d (dataI.where($\"ingreso_laboral\" \u003c 400).count / dataI.count.toDouble) * 100 \nprint(\"\\nIndigenas: \" + pMenorASBIndigena + \"\\n\")"
    },
    {
      "cell_type": "code",
      "execution_count": 17,
      "metadata": {
        "autoscroll": "auto"
      },
      "outputs": [],
      "source": "var pMenorASBAfroecuatoriano \u003d (dataA.where($\"ingreso_laboral\" \u003c 400).count / dataA.count.toDouble) * 100\nprint(\"\\nAfroecuatorianos: \" + pMenorASBAfroecuatoriano + \"\\n\")"
    },
    {
      "cell_type": "code",
      "execution_count": 18,
      "metadata": {
        "autoscroll": "auto"
      },
      "outputs": [],
      "source": "var pMenorASBNegro \u003d (dataN.where($\"ingreso_laboral\" \u003c 400).count / dataN.count.toDouble) * 100 \nprint(\"\\nNegro: \" + pMenorASBNegro + \"\\n\")"
    },
    {
      "cell_type": "code",
      "execution_count": 19,
      "metadata": {
        "autoscroll": "auto"
      },
      "outputs": [],
      "source": "var pMenorASBMulato \u003d (dataM.where($\"ingreso_laboral\" \u003c 400).count / dataM.count.toDouble) * 100 \nprint(\"\\nMulato: \" + pMenorASBMulato + \"\\n\")"
    },
    {
      "cell_type": "markdown",
      "metadata": {},
      "source": "## 5¿Cual es el porcentaje de Indigenas, Afroecuatorianos , Negro y Mulato ganan mas del salario minimo unificado?"
    },
    {
      "cell_type": "code",
      "execution_count": 21,
      "metadata": {
        "autoscroll": "auto"
      },
      "outputs": [],
      "source": "var pMayorrASBI \u003d (dataI.where($\"ingreso_laboral\" \u003e 400).count / dataI.count.toDouble) * 100 \nprint(\"\\nIndigenas: \" + pMayorrASBI + \"\\n\")"
    },
    {
      "cell_type": "code",
      "execution_count": 22,
      "metadata": {
        "autoscroll": "auto"
      },
      "outputs": [],
      "source": "var pMayorASBA \u003d (dataA.where($\"ingreso_laboral\" \u003e 400).count / dataA.count.toDouble) * 100 \nprint(\"\\nAfroecuatorianos: \" + pMayorASBA + \"\\n\")"
    },
    {
      "cell_type": "code",
      "execution_count": 23,
      "metadata": {
        "autoscroll": "auto"
      },
      "outputs": [],
      "source": "var pMayorASBN \u003d (dataN.where($\"ingreso_laboral\" \u003e 400).count / dataN.count.toDouble) * 100 \nprint(\"\\nNegro: \" + pMayorASBN + \"\\n\")"
    },
    {
      "cell_type": "code",
      "execution_count": 24,
      "metadata": {
        "autoscroll": "auto"
      },
      "outputs": [],
      "source": "var pMayorASBM \u003d (dataM.where($\"ingreso_laboral\" \u003e 400).count / dataM.count.toDouble) * 100 \nprint(\"\\nMulato: \" + pMayorASBM + \"\\n\")"
    },
    {
      "cell_type": "markdown",
      "metadata": {},
      "source": "## 6¿Cual es el porcentaje de Indigenas, Afroecuatorianos , Negro y Mulato que ganan el salario basico unificado?"
    },
    {
      "cell_type": "code",
      "execution_count": 26,
      "metadata": {
        "autoscroll": "auto"
      },
      "outputs": [],
      "source": "var pIgualASBI \u003d (dataI.where($\"ingreso_laboral\" \u003d\u003d\u003d 400).count / dataI.count.toDouble) * 100 \nprint(\"\\nIndigenas: \" + pIgualASBI + \"\\n\")"
    },
    {
      "cell_type": "code",
      "execution_count": 27,
      "metadata": {
        "autoscroll": "auto"
      },
      "outputs": [],
      "source": "var pIgualASBA \u003d (dataA.where($\"ingreso_laboral\" \u003d\u003d\u003d 400).count / dataA.count.toDouble) * 100 \nprint(\"\\nAfroecuatorianos: \" + pIgualASBA + \"\\n\")"
    },
    {
      "cell_type": "code",
      "execution_count": 28,
      "metadata": {
        "autoscroll": "auto"
      },
      "outputs": [],
      "source": "var pIgualASBN \u003d (dataN.where($\"ingreso_laboral\" \u003d\u003d\u003d 400).count / dataN.count.toDouble) * 100 \nprint(\"\\nNegro: \" + pIgualASBN + \"\\n\")"
    },
    {
      "cell_type": "code",
      "execution_count": 29,
      "metadata": {
        "autoscroll": "auto"
      },
      "outputs": [],
      "source": "var pIgualASBM \u003d (dataM.where($\"ingreso_laboral\" \u003d\u003d\u003d 400).count / dataM.count.toDouble) * 100 \nprint(\"\\nMulato: \" + pIgualASBM + \"\\n\")"
    },
    {
      "cell_type": "markdown",
      "metadata": {},
      "source": "## 7. ¿Cuales son los valores maximo y minimo que reciben Indigenas, Afroecuatorianos , Negro y Mulato por sus actividades laborales?"
    },
    {
      "cell_type": "code",
      "execution_count": 31,
      "metadata": {
        "autoscroll": "auto"
      },
      "outputs": [],
      "source": "dataI.select(min(\"ingreso_laboral\").as(\"Minimo Indigenas\"), max(\"ingreso_laboral\").as(\"Maximo Indigenas\")).show"
    },
    {
      "cell_type": "code",
      "execution_count": 32,
      "metadata": {
        "autoscroll": "auto"
      },
      "outputs": [],
      "source": "dataA.select(min(\"ingreso_laboral\").as(\"Minimo Afroecuatorianos\"), max(\"ingreso_laboral\").as(\"Maximo Afroecuatorianos\")).show"
    },
    {
      "cell_type": "code",
      "execution_count": 33,
      "metadata": {
        "autoscroll": "auto"
      },
      "outputs": [],
      "source": "dataN.select(min(\"ingreso_laboral\").as(\"Minimo Negro\"), max(\"ingreso_laboral\").as(\"Maximo Negro\")).show"
    },
    {
      "cell_type": "code",
      "execution_count": 34,
      "metadata": {
        "autoscroll": "auto"
      },
      "outputs": [],
      "source": "dataM.select(min(\"ingreso_laboral\").as(\"Minimo Mulato\"), max(\"ingreso_laboral\").as(\"Maximo Mulato\")).show"
    },
    {
      "cell_type": "markdown",
      "metadata": {},
      "source": "## 8. ¿Cuales son los grupos de ocupacion que realizan los Indigenas, Afroecuatorianos , Negro y Mulato?"
    },
    {
      "cell_type": "code",
      "execution_count": 36,
      "metadata": {
        "autoscroll": "auto"
      },
      "outputs": [],
      "source": "dataI.groupBy(\"etnia\", \"grupo_ocupacion\").count().sort(\"grupo_ocupacion\").show()"
    },
    {
      "cell_type": "code",
      "execution_count": 37,
      "metadata": {
        "autoscroll": "auto"
      },
      "outputs": [],
      "source": "dataA.groupBy(\"etnia\", \"grupo_ocupacion\").count().sort(\"grupo_ocupacion\").show()"
    },
    {
      "cell_type": "code",
      "execution_count": 38,
      "metadata": {
        "autoscroll": "auto"
      },
      "outputs": [],
      "source": "dataN.groupBy(\"etnia\", \"grupo_ocupacion\").count().sort(\"grupo_ocupacion\").show()"
    },
    {
      "cell_type": "code",
      "execution_count": 39,
      "metadata": {
        "autoscroll": "auto"
      },
      "outputs": [],
      "source": "dataM.groupBy(\"etnia\", \"grupo_ocupacion\").count().sort(\"grupo_ocupacion\").show()"
    },
    {
      "cell_type": "markdown",
      "metadata": {},
      "source": "## 9¿Cuales son las ramas que ocupa los Indigenas, Afroecuatorianos , Negro y Mulato?"
    },
    {
      "cell_type": "code",
      "execution_count": 41,
      "metadata": {
        "autoscroll": "auto"
      },
      "outputs": [],
      "source": "dataI.groupBy(\"etnia\", \"rama_actividad\").count().sort(\"rama_actividad\").show()"
    },
    {
      "cell_type": "code",
      "execution_count": 42,
      "metadata": {
        "autoscroll": "auto"
      },
      "outputs": [],
      "source": "dataA.groupBy(\"etnia\", \"rama_actividad\").count().sort(\"rama_actividad\").show()"
    },
    {
      "cell_type": "code",
      "execution_count": 43,
      "metadata": {
        "autoscroll": "auto"
      },
      "outputs": [],
      "source": "dataN.groupBy(\"etnia\", \"rama_actividad\").count().sort(\"rama_actividad\").show()"
    },
    {
      "cell_type": "code",
      "execution_count": 44,
      "metadata": {
        "autoscroll": "auto"
      },
      "outputs": [],
      "source": "dataM.groupBy(\"etnia\", \"rama_actividad\").count().sort(\"rama_actividad\").show()"
    },
    {
      "cell_type": "markdown",
      "metadata": {},
      "source": "## ¿Cantidad de mujeres y hombre Indigenas, Afroecuatorianos , Negro y Mulato?"
    },
    {
      "cell_type": "code",
      "execution_count": 46,
      "metadata": {
        "autoscroll": "auto"
      },
      "outputs": [],
      "source": "dataI.groupBy(\"etnia\", \"genero\").count().sort(\"genero\").show()"
    },
    {
      "cell_type": "code",
      "execution_count": 47,
      "metadata": {
        "autoscroll": "auto"
      },
      "outputs": [],
      "source": "dataA.groupBy(\"etnia\", \"genero\").count().sort(\"genero\").show()"
    },
    {
      "cell_type": "code",
      "execution_count": 48,
      "metadata": {
        "autoscroll": "auto"
      },
      "outputs": [],
      "source": "dataN.groupBy(\"etnia\", \"genero\").count().sort(\"genero\").show()"
    },
    {
      "cell_type": "code",
      "execution_count": 49,
      "metadata": {
        "autoscroll": "auto"
      },
      "outputs": [],
      "source": "dataM.groupBy(\"etnia\", \"genero\").count().sort(\"genero\").show()"
    },
    {
      "cell_type": "markdown",
      "metadata": {},
      "source": "## Indigenas, Afroecuatorianos , Negro y Mulato que ganan mayor o igual a 100000"
    },
    {
      "cell_type": "code",
      "execution_count": 51,
      "metadata": {
        "autoscroll": "auto"
      },
      "outputs": [],
      "source": "print(\"\\nIndigenas mayor o igual a 10000 : \" +dataI.where($\"Ingreso_laboral\" \u003e\u003d 10000).count)"
    },
    {
      "cell_type": "code",
      "execution_count": 52,
      "metadata": {
        "autoscroll": "auto"
      },
      "outputs": [],
      "source": "print(\"\\nAfroecuatorianos mayor o igual a 10000: \" + dataA.where($\"Ingreso_laboral\" \u003e\u003d 10000).count)"
    },
    {
      "cell_type": "code",
      "execution_count": 53,
      "metadata": {
        "autoscroll": "auto"
      },
      "outputs": [],
      "source": "print(\"\\nNegro mayor o igual a 10000 : \" +dataN.where($\"Ingreso_laboral\" \u003e\u003d 10000).count)"
    },
    {
      "cell_type": "code",
      "execution_count": 54,
      "metadata": {
        "autoscroll": "auto"
      },
      "outputs": [],
      "source": "print(\"\\nMulato mayor o igual a 10000 : \" +dataM.where($\"Ingreso_laboral\" \u003e\u003d 10000).count)"
    },
    {
      "cell_type": "markdown",
      "metadata": {},
      "source": "#Tema 2: Analisis de datos con visualizaciones"
    },  
    {
      "cell_type": "markdown",
      "metadata": {},
      "source": " \n## Encontrar la catidad total de generos por cada etnia en la base de datos.\n"
    },
    {
      "cell_type": "code",
      "execution_count": 56,
      "metadata": {
        "autoscroll": "auto"
      },
      "outputs": [],
      "source": "val crosGeneroEtn \u003d data.stat.crosstab(\"etnia\", \"genero\").orderBy(\"etnia_genero\")\n"
    },
    {
      "cell_type": "code",
      "execution_count": 57,
      "metadata": {
        "autoscroll": "auto"
      },
      "outputs": [],
      "source": "crosGeneroEtn.show"
    },
    {
      "cell_type": "markdown",
      "metadata": {},
      "source": " \n## Edad promedio de personas en cada rama de actividad."
    },
    {
      "cell_type": "code",
      "execution_count": 59,
      "metadata": {
        "autoscroll": "auto"
      },
      "outputs": [],
      "source": "\ndata.groupBy(\"rama_actividad\").pivot(\"genero\").avg(\"edad\").orderBy(\"rama_actividad\").show"
    },
    {
      "cell_type": "code",
      "execution_count": 60,
      "metadata": {
        "autoscroll": "auto"
      },
      "outputs": [],
      "source": "data.groupBy(\"rama_actividad\").pivot(\"genero\").agg(round(avg(\"edad\")).cast(IntegerType)).orderBy(\"rama_actividad\").show"
    },
    {
      "cell_type": "markdown",
      "metadata": {},
      "source": "## Cantidad promedio de ingreos por etnia  "
    },
    {
      "cell_type": "code",
      "execution_count": 62,
      "metadata": {
        "autoscroll": "auto"
      },
      "outputs": [],
      "source": "data.groupBy(\"etnia\").pivot(\"genero\").avg(\"ingreso_laboral\").orderBy(\"etnia\").show"
    },
    {
      "cell_type": "markdown",
      "metadata": {},
      "source": "## Cantidad maxima de ingreos por etnia  "
    },
    {
      "cell_type": "code",
      "execution_count": 64,
      "metadata": {
        "autoscroll": "auto"
      },
      "outputs": [],
      "source": "data.groupBy(\"etnia\").pivot(\"genero\").max(\"ingreso_laboral\").orderBy(\"etnia\").show"
    },
    {
      "cell_type": "markdown",
      "metadata": {},
      "source": "## Cantidad minima de ingreos por etnia  "
    },
    {
      "cell_type": "code",
      "execution_count": 66,
      "metadata": {
        "autoscroll": "auto"
      },
      "outputs": [],
      "source": "data.groupBy(\"etnia\").pivot(\"genero\").min(\"ingreso_laboral\").orderBy(\"etnia\").show"
    }
    
  ]
}
