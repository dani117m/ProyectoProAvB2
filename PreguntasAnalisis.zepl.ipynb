{
  "metadata": {
    "name": "Analisis Preguntas",
    "kernelspec": {
		  "display_name": "Scala",
      "language": "scala",
      "name": "spark2-scala"
    },
    "language_info": {
      "codemirror_mode": "text/x-scala",
      "file_extension": ".scala",
      "mimetype": "text/x-scala",
      "name": "scala",
      "pygments_lexer": "scala"
    }
  },
  "nbformat": 4,
  "nbformat_minor": 2,
  "cells": [
    {
      "cell_type": "code",
      "execution_count": 0,
      "metadata": {
        "autoscroll": "auto"
      },
      "outputs": [],
      "source": "import org.apache.spark.sql.types._\nval myDataSchema \u003d StructType(\n    Array(\n        StructField(\"PROVINCIA\",IntegerType,true),\n        StructField(\"DESPROVINCIA\",StringType,true),\n        StructField(\"CLASE2\",IntegerType,true),\n        StructField(\"DESCLASE2\",StringType,true),\n        StructField(\"SERVICIO1\",IntegerType,true),\n        StructField(\"tonela_f\",StringType,true),\n        StructField(\"pasaj_f\",IntegerType,true),\n        StructField(\"DESCOMBUSTIBLE2\",StringType,true),\n        StructField(\"DESERVICIO1\",StringType,true),\n        StructField(\"COMBUSTIBLE2\",IntegerType,true),\n        StructField(\"MODELO1\",IntegerType,true),\n        StructField(\"DESMARCA1\",StringType,true),\n        StructField(\"DESMODELO1\",StringType,true),\n        StructField(\"DESTONELAJE\",StringType,true),\n        StructField(\"MARCA1\",IntegerType,true),\n        StructField(\"DESPASAJEROS2\",StringType,true),\n        StructField(\"TONELAJE\",IntegerType,true),\n        StructField(\"PASAJEROS2\",IntegerType,true)\n    ));"
    },
    {
      "cell_type": "code",
      "execution_count": 1,
      "metadata": {
        "autoscroll": "auto"
      },
      "outputs": [],
      "source": "val dataOriginal \u003d spark\n  .read\n  .schema(myDataSchema)\n//  .option(\"inferSchema\", true)\n  .option(\"header\", \"true\")\n  .option(\"delimiter\", \";\")\n  .option(\"charset\", \"ISO-8859-1\")\n  .csv(\"/home/ricardoifc/Documentos/PruebaParcialProgramacion/bdd-transportes-2013.csv\");"
    },
    {
      "cell_type": "markdown",
      "metadata": {},
      "source": "## Agregar la columna \"tonelaje_num\":"
    },
    {
      "cell_type": "code",
      "execution_count": 3,
      "metadata": {
        "autoscroll": "auto"
      },
      "outputs": [],
      "source": "val data \u003d dataOriginal.withColumn(\"tonelaje_num\", translate($\"tonela_f\",\",\",\".\").cast(\"Double\"))\ndata.show"
    },
    {
      "cell_type": "markdown",
      "metadata": {},
      "source": "# Resultados:"
    },
    {
      "cell_type": "markdown",
      "metadata": {},
      "source": "## Tipo de combustibles mas usado:"
    },
    {
      "cell_type": "code",
      "execution_count": 6,
      "metadata": {
        "autoscroll": "auto"
      },
      "outputs": [],
      "source": "data.groupBy(\"DESCOMBUSTIBLE2\").count().sort($\"count\".desc).show()"
    },
    {
      "cell_type": "code",
      "execution_count": 7,
      "metadata": {
        "autoscroll": "auto"
      },
      "outputs": [],
      "source": "val dataCombGa \u003d data.where($\"DESCOMBUSTIBLE2\" \u003d\u003d\u003d \"GASOLINA\")\nval dataCombDi \u003d data.where($\"DESCOMBUSTIBLE2\" \u003d\u003d\u003d \"DIESEL\")\nval dataCombHi \u003d data.where($\"DESCOMBUSTIBLE2\" \u003d\u003d\u003d \"HIBRIDO\")\nval dataCombGL \u003d data.where($\"DESCOMBUSTIBLE2\" \u003d\u003d\u003d \"GAS LICUADO\")\nval dataCombEl \u003d data.where($\"DESCOMBUSTIBLE2\" \u003d\u003d\u003d \"GAS ELECTRICO\")"
    },
    {
      "cell_type": "markdown",
      "metadata": {},
      "source": "## Porcentajes de Combustibles mas usado:"
    },
    {
      "cell_type": "code",
      "execution_count": 9,
      "metadata": {
        "autoscroll": "auto"
      },
      "outputs": [],
      "source": "print(f\"${(dataCombGa.count / data.count.toDouble) * 100}%.2f%% Gasolina \\n${(dataCombDi.count / data.count.toDouble) * 100}%.2f%% Diesel \\n${(dataCombHi.count / data.count.toDouble) * 100}%.2f%% HIBRIDO| \\n${(dataCombGL.count / data.count.toDouble) * 100}%.2f%% GAS LICUADO \\n${(dataCombEl.count / data.count.toDouble) * 100}%.2f%% ELECTRICO \\n\")"
    },
    {
      "cell_type": "markdown",
      "metadata": {},
      "source": "## Marca de carros mas frecuente:"
    },
    {
      "cell_type": "code",
      "execution_count": 11,
      "metadata": {
        "autoscroll": "auto"
      },
      "outputs": [],
      "source": "data.groupBy(\"DESMARCA1\").count().sort($\"count\".desc).show(20)"
    },
    {
      "cell_type": "markdown",
      "metadata": {},
      "source": "## Carros por año"
    },
    {
      "cell_type": "code",
      "execution_count": 13,
      "metadata": {
        "autoscroll": "auto"
      },
      "outputs": [],
      "source": "data.groupBy(\"MODELO1\").count().sort($\"MODELO1\".desc).show()"
    },
    {
      "cell_type": "code",
      "execution_count": 14,
      "metadata": {
        "autoscroll": "auto"
      },
      "outputs": [],
      "source": "val dataModelo2010 \u003d data.where($\"MODELO1\" \u003d\u003d\u003d \"2010\")\nval dataModelo2011 \u003d data.where($\"MODELO1\" \u003d\u003d\u003d \"2011\")\nval dataModelo2012 \u003d data.where($\"MODELO1\" \u003d\u003d\u003d \"2012\")\nval dataModelo2013 \u003d data.where($\"MODELO1\" \u003d\u003d\u003d \"2013\")\nval dataModelo2014 \u003d data.where($\"MODELO1\" \u003d\u003d\u003d \"2014\")\nval dataModelo0409 \u003d data.where($\"MODELO1\" \u003d\u003d\u003d \"2004\" || $\"MODELO1\" \u003d\u003d\u003d \"2005\" || $\"MODELO1\" \u003d\u003d\u003d \"2006\" || $\"MODELO1\" \u003d\u003d\u003d \"2007\" || $\"MODELO1\" \u003d\u003d\u003d \"2008\" || $\"MODELO1\" \u003d\u003d\u003d \"2009\")"
    },
    {
      "cell_type": "markdown",
      "metadata": {},
      "source": "## Carros mas vendidos desde 2004 a 2009"
    },
    {
      "cell_type": "code",
      "execution_count": 16,
      "metadata": {
        "autoscroll": "auto"
      },
      "outputs": [],
      "source": "dataModelo0409.groupBy($\"DESMARCA1\".as(\"2004 a 2009\")).count().sort($\"count\".desc).show(10)"
    },
    {
      "cell_type": "markdown",
      "metadata": {},
      "source": "## Carros mas vendidos de el año 2010, 2011, 2012, 2013, 2014"
    },
    {
      "cell_type": "code",
      "execution_count": 18,
      "metadata": {
        "autoscroll": "auto"
      },
      "outputs": [],
      "source": "dataModelo2010.groupBy($\"DESMARCA1\".as(\"2010\")).count().sort($\"count\".desc).show(10)"
    },
    {
      "cell_type": "code",
      "execution_count": 19,
      "metadata": {
        "autoscroll": "auto"
      },
      "outputs": [],
      "source": "dataModelo2011.groupBy($\"DESMARCA1\".as(\"2011\")).count().sort($\"count\".desc).show(10)"
    },
    {
      "cell_type": "code",
      "execution_count": 20,
      "metadata": {
        "autoscroll": "auto"
      },
      "outputs": [],
      "source": "dataModelo2012.groupBy($\"DESMARCA1\".as(\"2012\")).count().sort($\"count\".desc).show(10)"
    },
    {
      "cell_type": "code",
      "execution_count": 21,
      "metadata": {
        "autoscroll": "auto"
      },
      "outputs": [],
      "source": "dataModelo2013.groupBy($\"DESMARCA1\".as(\"2013\")).count().sort($\"count\".desc).show(10)"
    },
    {
      "cell_type": "code",
      "execution_count": 22,
      "metadata": {
        "autoscroll": "auto"
      },
      "outputs": [],
      "source": "dataModelo2014.groupBy($\"DESMARCA1\".as(\"2014\")).count().sort($\"count\".desc).show(10)"
    },
    {
      "cell_type": "markdown",
      "metadata": {},
      "source": "## Servicio que da los carros"
    },
    {
      "cell_type": "code",
      "execution_count": 24,
      "metadata": {
        "autoscroll": "auto"
      },
      "outputs": [],
      "source": "data.groupBy(\"DESERVICIO1\").count().sort($\"count\".desc).show()"
    },
    {
      "cell_type": "code",
      "execution_count": 25,
      "metadata": {
        "autoscroll": "auto"
      },
      "outputs": [],
      "source": "val dataAlquilados \u003d data.where($\"DESERVICIO1\" \u003d\u003d\u003d \"ALQUILER\")\nval dataAlquiladosAutomovil \u003d dataAlquilados.where($\"DESCLASE2\" \u003d\u003d\u003d \"AUTÓMOVIL\")"
    },
    {
      "cell_type": "markdown",
      "metadata": {},
      "source": "## Tipo de auto mas alquilado "
    },
    {
      "cell_type": "code",
      "execution_count": 27,
      "metadata": {
        "autoscroll": "auto"
      },
      "outputs": [],
      "source": "dataAlquilados.groupBy(\"DESCLASE2\").count().sort($\"count\".desc).show()"
    },
    {
      "cell_type": "markdown",
      "metadata": {},
      "source": "## Marca de vehiculo de tipo automovil mas rentado"
    },
    {
      "cell_type": "code",
      "execution_count": 29,
      "metadata": {
        "autoscroll": "auto"
      },
      "outputs": [],
      "source": "dataAlquiladosAutomovil.groupBy(\"DESMARCA1\").count().sort($\"count\".desc).show()"
    },
    {
      "cell_type": "markdown",
      "metadata": {},
      "source": "## Vehiculos en Loja"
    },
    {
      "cell_type": "code",
      "execution_count": 31,
      "metadata": {
        "autoscroll": "auto"
      },
      "outputs": [],
      "source": "val dataProvLoja \u003d data.where($\"DESPROVINCIA\" \u003d\u003d\u003d \"LOJA\")\ndataProvLoja.count\n"
    },
    {
      "cell_type": "markdown",
      "metadata": {},
      "source": "## Tipo de vehiculos mas frecuente en Loja"
    },
    {
      "cell_type": "code",
      "execution_count": 33,
      "metadata": {
        "autoscroll": "auto"
      },
      "outputs": [],
      "source": "dataProvLoja.groupBy(\"DESCLASE2\").count().sort($\"count\".desc).show()"
    }
    
  ]
}
